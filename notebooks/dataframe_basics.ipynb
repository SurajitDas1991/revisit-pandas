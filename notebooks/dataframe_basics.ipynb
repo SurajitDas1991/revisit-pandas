{
 "cells": [
  {
   "cell_type": "markdown",
   "metadata": {},
   "source": [
    "# The notebook is aimed to check different dataframe operations via pandas library which could be helpful for day to day analysis of different datasets."
   ]
  },
  {
   "cell_type": "code",
   "execution_count": null,
   "metadata": {},
   "outputs": [],
   "source": [
    "import  pandas as pd\n",
    "from IPython.core.interactiveshell import InteractiveShell\n",
    "from pathlib import Path"
   ]
  },
  {
   "cell_type": "markdown",
   "metadata": {},
   "source": [
    "### Pandas version"
   ]
  },
  {
   "cell_type": "code",
   "execution_count": null,
   "metadata": {},
   "outputs": [],
   "source": [
    "pd.__version__"
   ]
  },
  {
   "cell_type": "markdown",
   "metadata": {},
   "source": [
    "Set pandas options"
   ]
  },
  {
   "cell_type": "code",
   "execution_count": null,
   "metadata": {},
   "outputs": [],
   "source": [
    "pd.set_option('display.max_columns',500)\n",
    "InteractiveShell.ast_node_interactivity = \"all\"   "
   ]
  },
  {
   "cell_type": "markdown",
   "metadata": {},
   "source": [
    "Set line separator"
   ]
  },
  {
   "cell_type": "code",
   "execution_count": null,
   "metadata": {},
   "outputs": [],
   "source": [
    "def separate_line(text:str=\"\"):\n",
    "    print(f\"\\n{'-'*37}\\n{text}\")"
   ]
  },
  {
   "cell_type": "markdown",
   "metadata": {},
   "source": [
    "Set data path"
   ]
  },
  {
   "cell_type": "code",
   "execution_count": null,
   "metadata": {},
   "outputs": [],
   "source": [
    "data_path=Path.cwd().parent/\"data\""
   ]
  },
  {
   "cell_type": "markdown",
   "metadata": {},
   "source": [
    "### Read data from csv file"
   ]
  },
  {
   "cell_type": "code",
   "execution_count": null,
   "metadata": {},
   "outputs": [],
   "source": [
    "gemstone_df=pd.read_csv(f'{data_path}/gemstone.csv')\n",
    "gemstone_df.head()"
   ]
  },
  {
   "cell_type": "markdown",
   "metadata": {},
   "source": [
    "Basic dataframe options to get an overview of the data available"
   ]
  },
  {
   "cell_type": "code",
   "execution_count": null,
   "metadata": {},
   "outputs": [],
   "source": [
    "separate_line(\"Check number of rows and columns of the dataframe\")\n",
    "gemstone_df.shape\n",
    "separate_line(\"Get 1st 10 rows of the dataframe\")\n",
    "gemstone_df.head(10)\n",
    "separate_line(\"Get last 2 rows of the dataframe\")\n",
    "gemstone_df.tail(2)\n",
    "separate_line(\"Get columns\")\n",
    "gemstone_df.columns\n",
    "separate_line(\"Get random sample\")\n",
    "gemstone_df.sample()\n",
    "separate_line(\"Get sample in terms of percentage and get the same result each time\")\n",
    "gemstone_df.sample(frac=0.1,random_state=200)\n",
    "separate_line(\"Get the index of the dataframe\")\n",
    "gemstone_df.index\n",
    "separate_line(\"Get the length of the dataframe\")\n",
    "len(gemstone_df)"
   ]
  },
  {
   "cell_type": "markdown",
   "metadata": {},
   "source": [
    "Data Summarization"
   ]
  },
  {
   "cell_type": "code",
   "execution_count": null,
   "metadata": {},
   "outputs": [],
   "source": [
    "separate_line(\"Get info on the dataframe\")\n",
    "gemstone_df.info()\n",
    "separate_line(\"Describe the dataframe\")\n",
    "gemstone_df.describe()\n",
    "separate_line(\"Describe specific column in the dataframe\")\n",
    "gemstone_df[['cut']].describe()"
   ]
  },
  {
   "cell_type": "markdown",
   "metadata": {},
   "source": [
    "Get dataframe subset functions"
   ]
  },
  {
   "cell_type": "code",
   "execution_count": null,
   "metadata": {},
   "outputs": [],
   "source": [
    "separate_line(\"Subset specific columns from an existing dataframe\")\n",
    "gemstone_df[['cut','color']]\n",
    "separate_line(\"Subset first 3 columns from an existing dataframe\")\n",
    "gemstone_df[gemstone_df.columns[:3]]\n",
    "separate_line(\"List comprehension\")\n",
    "[c for c in gemstone_df.columns if 'cut' in c]\n",
    "separate_line(\"Select columns based on type\")\n",
    "gemstone_df.select_dtypes(\"object\")"
   ]
  },
  {
   "cell_type": "markdown",
   "metadata": {},
   "source": [
    "Filter dataframe with iloc which is a index based filter"
   ]
  },
  {
   "cell_type": "code",
   "execution_count": null,
   "metadata": {},
   "outputs": [],
   "source": [
    "separate_line(\"Filtering exact item in the dataframe\")\n",
    "gemstone_df.iloc[1,2]\n",
    "separate_line(\"Filtering First 5 rows and first 5 columns in the dataframe\")\n",
    "gemstone_df.iloc[:5,:5]\n",
    "separate_line(\"Filtering only 5th row as a series in the dataframe\")\n",
    "gemstone_df.iloc[5]\n",
    "separate_line(\"Filtering only 5th row as a dataframe in the dataframe\")\n",
    "gemstone_df.iloc[[5]]\n",
    "separate_line(\"Filtering only column in the dataframe\")\n",
    "gemstone_df.iloc[:,3]\n",
    "separate_line(\"Filtering 2 column in the dataframe\")\n",
    "gemstone_df.iloc[:,[3,4]]"
   ]
  },
  {
   "cell_type": "markdown",
   "metadata": {},
   "source": [
    "Filter with loc in the dataframe"
   ]
  },
  {
   "cell_type": "code",
   "execution_count": null,
   "metadata": {},
   "outputs": [],
   "source": [
    "separate_line(\"Filtering by column name in the dataframe\")\n",
    "gemstone_df.loc[:,[\"cut\",\"id\"]]\n",
    "separate_line(\"Filtering by boolean expressions in the dataframe using AND\")\n",
    "gemstone_df.loc[(gemstone_df['cut']==\"Premium\") & (gemstone_df['color']==\"F\")]\n",
    "separate_line(\"Filtering by boolean expressions in the dataframe using OR\")\n",
    "gemstone_df.loc[(gemstone_df['cut']==\"Premium\") | (gemstone_df['clarity']==\"VS2\")]\n",
    "separate_line(\"Filtering by inverse of a boolean expressions in the dataframe\")\n",
    "gemstone_df.loc[~(gemstone_df['cut']==\"Premium\")]"
   ]
  },
  {
   "cell_type": "markdown",
   "metadata": {},
   "source": [
    "Filter with SQL query"
   ]
  },
  {
   "cell_type": "code",
   "execution_count": null,
   "metadata": {},
   "outputs": [],
   "source": [
    "separate_line(\"Query method to filter data\")\n",
    "gemstone_df.query('cut==\"Premium\"')\n",
    "separate_line(\"Query method to filter data using a variable\")\n",
    "cut_type=\"Premium\"\n",
    "gemstone_df.query('cut==@cut_type')\n"
   ]
  },
  {
   "cell_type": "markdown",
   "metadata": {},
   "source": [
    "Summarize data using mean/min/max"
   ]
  },
  {
   "cell_type": "code",
   "execution_count": null,
   "metadata": {},
   "outputs": [],
   "source": [
    "separate_line(\"Calculate mean of a dataframe column\")\n",
    "gemstone_df[['carat']].mean()\n",
    "separate_line(\"Calculate mean of multiple dataframe columns\")\n",
    "gemstone_df[['carat','x','y','z']].mean()\n",
    "separate_line(\"Using agg method to calculate mean,min,max of multiple dataframe columns\")\n",
    "gemstone_df[['carat','x','y','z']].agg(['min','max','mean'])\n",
    "separate_line(\"Using agg method to calculate mean,min,max individually of multiple dataframe columns\")\n",
    "gemstone_df[['carat','x','y','z','price']].agg({\n",
    "    'price':['mean'],\n",
    "    'x':['min','max']\n",
    "})\n",
    "separate_line(\"Get unique values for a specific column\")\n",
    "gemstone_df['cut'].unique()\n",
    "separate_line(\"Get count of unique values for a specific column\")\n",
    "gemstone_df['cut'].nunique()\n",
    "separate_line(\"Get count of values for a pair of columns\")\n",
    "gemstone_df[['cut','clarity']].value_counts().reset_index() # reset index as the returned value would be a multi-indx series"
   ]
  }
 ],
 "metadata": {
  "kernelspec": {
   "display_name": ".venv",
   "language": "python",
   "name": "python3"
  },
  "language_info": {
   "codemirror_mode": {
    "name": "ipython",
    "version": 3
   },
   "file_extension": ".py",
   "mimetype": "text/x-python",
   "name": "python",
   "nbconvert_exporter": "python",
   "pygments_lexer": "ipython3",
   "version": "3.12.5"
  }
 },
 "nbformat": 4,
 "nbformat_minor": 2
}
